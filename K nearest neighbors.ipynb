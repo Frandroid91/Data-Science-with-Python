{
 "cells": [
  {
   "cell_type": "code",
   "execution_count": 106,
   "metadata": {},
   "outputs": [],
   "source": [
    "import pandas as pd\n",
    "import math\n",
    "from statistics import mode"
   ]
  },
  {
   "cell_type": "code",
   "execution_count": 169,
   "metadata": {},
   "outputs": [],
   "source": [
    "def knn(data, query, k, distance_fn, choice_fn):\n",
    "    \n",
    "    distances_and_indices = []\n",
    "    \n",
    "    for index,example in enumerate(data):\n",
    "        distance = distance_fn(example[:-1], query)\n",
    "        distances_and_indices.append((distance, index))\n",
    "        \n",
    "    k_nearest = sorted(distances_and_indices)[:k]\n",
    "    \n",
    "    k_nearest_labels = [] \n",
    "    for distance, i in k_nearest:\n",
    "        k_nearest_labels.append(data[i][1])\n",
    "    \n",
    "    print(k_nearest)\n",
    "    print(k_nearest_labels)\n",
    "    return choice_fn(k_nearest_labels)\n",
    "\n",
    "        \n",
    "def euclidean_distance(point1, point2):\n",
    "    sum_squared_distance = 0\n",
    "    for i in range(len(point1)):\n",
    "        sum_squared_distance += math.pow(point1[i] - point2[i], 2)\n",
    "    return math.sqrt(sum_squared_distance)\n",
    "\n",
    "\n",
    "def mean(labels):\n",
    "    return sum(labels) / len(labels)\n",
    "\n",
    "\n",
    "def mode_(labels):\n",
    "    return mode(labels)\n"
   ]
  },
  {
   "cell_type": "code",
   "execution_count": 181,
   "metadata": {},
   "outputs": [
    {
     "name": "stdout",
     "output_type": "stream",
     "text": [
      "[(26.099999999999994, 138), (26.17, 174), (27.560000000000002, 154), (27.980000000000004, 158), (28.200000000000003, 34)]\n",
      "[151.39, 139.3, 136.74, 138.78, 140.1]\n"
     ]
    },
    {
     "data": {
      "text/plain": [
       "141.262"
      ]
     },
     "execution_count": 181,
     "metadata": {},
     "output_type": "execute_result"
    }
   ],
   "source": [
    "dataframe = pd.read_excel(\"C:/Users/mdelabarra/Desktop/datasets python/dataset_alturas_pesos.xlsx\")\n",
    "data = dataframe.values.tolist()\n",
    "query=[100]\n",
    "k=5\n",
    "\n",
    "predicted_weight = knn(data, query, k, euclidean_distance, mean)\n",
    "predicted_weight"
   ]
  }
 ],
 "metadata": {
  "kernelspec": {
   "display_name": "Python 3",
   "language": "python",
   "name": "python3"
  },
  "language_info": {
   "codemirror_mode": {
    "name": "ipython",
    "version": 3
   },
   "file_extension": ".py",
   "mimetype": "text/x-python",
   "name": "python",
   "nbconvert_exporter": "python",
   "pygments_lexer": "ipython3",
   "version": "3.8.5"
  }
 },
 "nbformat": 4,
 "nbformat_minor": 4
}
